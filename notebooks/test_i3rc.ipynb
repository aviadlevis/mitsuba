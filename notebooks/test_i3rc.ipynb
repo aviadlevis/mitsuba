{
 "cells": [
  {
   "cell_type": "markdown",
   "metadata": {},
   "source": [
    "## Intercomparison of 3D Radiation Codes (I3RC): https://i3rc.gsfc.nasa.gov/\n",
    "-----\n",
    "\n",
    "##### Description\n",
    "I3RC is an ongoing project initiated in the late 1990s. Its goals include: \n",
    "- Comparing methods available for 3D atmospheric radiative transfer calculations.\n",
    "- Providing benchmark results for testing and debugging 3D radiative transfer codes.\n",
    "- Publishing an open source toolkit (community 3D Monte Carlo code).\n",
    "- Helping atmospheric science education by creating an archive of illustrative images and other resources on 3D radiative transfer.\n",
    "\n",
    "Benchmark test-cases are devided into three phases. This notebook implements them for the mitsuba-renderer (https://www.mitsuba-renderer.org/), comparing it to gold-standard atmospheric science codes.\n",
    "\n",
    "\n",
    "##### Phase I\n",
    "Includes several baseline radiative computations for 3D radiative transfer through the following cloud fields:\n",
    "1. 1D academic 'step' cloud field\n",
    "2. 2D field derived from the ARM cloud radar\n",
    "3. 3D field derived from radiances measured by the Landsat Thematic Mapper instrument\n",
    "\n",
    "These computations involved cloud and surface only (i.e., no gases or aerosol) and were monochromatic, with scattering and absorption only (i.e., no emission), and were completed independently at each participants' home institutions.\n",
    "\n",
    "---\n",
    "#### Outputs\n",
    "\n",
    "Mean and higher order moments of: \n",
    "   1. albedo (R)\n",
    "   2. transmittance (T)\n",
    "   3. absorptance (wherever applicable) (A)\n",
    "   4. net horizontal flux (H) defined as $1-R-T-A$\n",
    "   5. nadir reflectivity (Iu) defined as $\\pi\\nu / (F \\mu_0)$ where: \n",
    "       - $\\nu$ - upward exiting radiance at 0 degrees\n",
    "       - $\\mu_0$ - cosine of the solar zenith angle\n",
    "       - $F=1$ is the incident solar flux\n",
    "   6. oblique reflectivities (Io) defined as $\\pi N_o / (F\\mu_0)$ where:\n",
    "       - $N_o$ - upward exiting radiance at 60 degrees zenith and 0 and 180 degrees azimuth angles (i.e. two oblique reflectivities are requested)\n",
    "   7. zenith transmissivity (Id) defined as $\\pi N_d/(F\\mu_0)$ where:\n",
    "       - $N_d$ - downward exiting radiance at 180 degrees (requested only when SZA=60)\n",
    "\n",
    "\n",
    "Higher order moments are calculated as \n",
    "$$ \\frac{1}{N}\\sum_{i=1}^N (x_i-\\bar{x})^k, \\quad k=2,6 \\quad  N=32$$\n",
    "\n",
    "---\n",
    "#### Consensus Results :\n",
    "\n",
    "http://i3rc.gsfc.nasa.gov/consensus_result/consensus_result_case1.tar\n",
    "\n",
    "File format: I3RC_cons_res_case1_exp#_RQ.txt \n",
    "\n",
    "http://i3rc.gsfc.nasa.gov/input/step_cloud/README.txt\n",
    "\n",
    "#### Compare mitsuba to I3RC consensus results:\n",
    "---\n",
    "\n",
    "     Exp.#    \n",
    "        1.    SZA = 0,  w0 = 1\n",
    "        2.    SZA = 60, w0 = 1\n",
    "        3.    SZA = 0,  w0 = 0.99\n",
    "        4.    SZA = 60, w0 = 0.99\n",
    "    \n",
    "    \"RQ\" is the radiative quantity. RQ takes the following values:\n",
    "        - RQ=R     (reflectance)\n",
    "        - RQ=T     (transmittance)\n",
    "        - RQ=A     (absorptance)\n",
    "        - RQ=H     (net horizontal flux)\n",
    "        - RQ=Iu    (nadir reflectivity)\n",
    "        - RQ=I601  (reflectivity at 60 view, 0 azimuth)\n",
    "        - RQ=I602  (reflectivity at 60 view, 180 azimuth)\n",
    "        - RQ=Id    (zenith transmissivity) "
   ]
  },
  {
   "cell_type": "markdown",
   "metadata": {},
   "source": [
    "### 1D academic step cloud field\n",
    "---\n",
    "#### Scenario \n",
    "- X-direction: $32$ columns (pixels): 16 have an optical depth of $\\tau=2$. The remaining have $\\tau=18$. Total size is 0.5km, thus $dx=0.5/32~ {\\rm km}$.\n",
    "- Y-direction: infinite.\n",
    "- Z-direction: Geometrical thickness is set to 0.25 km everywhere (flat cloud).\n",
    "\n",
    "  This is the Readme file for I3RC Case 1 (Step cloud) consensus results.                                              \n",
    "  This file can be obtained at http://i3rc.gsfc.nasa.gov/consensus_result/consensus_result_case1.tar    \n",
    "---\n",
    "#### Experiments\n",
    "ASSUMPTIONS:\n",
    "1. No atmospheric effects\n",
    "2. Periodic boundary conditions (cloud field is repeated an infinite\n",
    "   number of times along the x direction)\n",
    "3. Henyey-Greenstein phase function (PF) with g=0.85\n",
    "4. Black (zero reflectance) surface\n",
    "5. Single scattering albedos w0=1 and w0=0.99 (with the same PF\n",
    "   and extinction field).\n",
    "\n",
    "SOLAR GEOMETRY: \n",
    "1. Sun at (SZA of) zero degrees\n",
    "2. Sun at 60 degrees and 0 azimuth (Sun shining from low x coordinates)"
   ]
  },
  {
   "cell_type": "code",
   "execution_count": 1,
   "metadata": {
    "collapsed": false
   },
   "outputs": [],
   "source": [
    "import i3rc\n",
    "\n",
    "# Mitsuba imports\n",
    "from mitsuba.core import *\n",
    "from mitsuba.render import Scene, RenderQueue, RenderJob\n",
    "\n",
    "# Other imports and function defenitions \n",
    "import numpy as np\n",
    "import matplotlib.pyplot as plt\n",
    "import os, sys \n",
    "\n",
    "# Multiprocessing imports and initialization\n",
    "import multiprocessing\n",
    "scheduler = Scheduler.getInstance()\n",
    "\n",
    "# Start up the scheduling system with one worker per local core\n",
    "for i in range(0, multiprocessing.cpu_count()): \n",
    "    scheduler.registerWorker(LocalWorker(i, 'wrk%i' % i))\n",
    "    #scheduler.registerWorker(LocalWorker(0, 'wrk0'))\n",
    "\n",
    "scheduler.start()"
   ]
  },
  {
   "cell_type": "code",
   "execution_count": 2,
   "metadata": {
    "collapsed": false
   },
   "outputs": [],
   "source": [
    "case = 'case1'\n",
    "consResult = i3rc.consresults[case]\n",
    "\n",
    "# Create a queue for tracking render jobs\n",
    "queue = RenderQueue()\n",
    "pmgr = PluginManager.getInstance()\n",
    "mtsResult = dict()\n",
    "k=0\n",
    "for experiment in i3rc.scenes.iterkeys():\n",
    "    if k==0:\n",
    "        k=1;\n",
    "        continue;\n",
    "    # If experiment is not in the consesnus result dont render with mitsuba\n",
    "    if experiment not in consResult:\n",
    "        continue\n",
    "        \n",
    "    scene = i3rc.scenes[experiment]\n",
    "    size = scene.getSensor().getFilm().getSize()\n",
    "    bitmap = Bitmap(Bitmap.ELuminance, Bitmap.EFloat32, size)\n",
    "\n",
    "    job = RenderJob('myRenderJob', scene, queue)\n",
    "    job.start()\n",
    "    queue.waitLeft(0)\n",
    "\n",
    "    # Develop the camera's film \n",
    "    scene.getFilm().develop(Point2i(0, 0), size, Point2i(0, 0), bitmap)\n",
    "    mtsResult[experiment] = np.array(bitmap.buffer())\n",
    "    "
   ]
  },
  {
   "cell_type": "code",
   "execution_count": 4,
   "metadata": {
    "collapsed": false
   },
   "outputs": [
    {
     "data": {
      "image/png": "[encoded data removed]",
      "text/plain": [
       "<matplotlib.figure.Figure at 0x7f691c7cc310>"
      ]
     },
     "metadata": {},
     "output_type": "display_data"
    }
   ],
   "source": [
    "# Plot results for case1 experiments\n",
    "%matplotlib inline \n",
    "\n",
    "f, axarr = plt.subplots(1, len(mtsResult), figsize=(15,5))\n",
    "for ax, experiment in zip(axarr, mtsResult):\n",
    "    ax.plot(np.pi * mtsResult[experiment].T, label='Mitsuba')\n",
    "    ax.plot(consResult[experiment], label='I3RC Consensus')\n",
    "    ax.legend(fontsize=12, loc='best')\n",
    "    ax.set_title('{}'.format(experiment), fontsize=14); \n",
    "    ax.set_xlabel('x [km]', fontsize=12);\n",
    "\n",
    "plt.suptitle('Case1: 1D Step Cloud', fontsize=18, y=1.05, color='r')\n",
    "plt.show()"
   ]
  },
  {
   "cell_type": "markdown",
   "metadata": {},
   "source": [
    "### 2D field derived from the ARM cloud radar\n",
    "\n",
    "The 2D cloud field for this experiment is based on extinction retrievals from the MMCR (Millimiter Cloud Radar) and the MWR (microwave radiometer)at the ARM CART site in Lamont, OK on Feb. 8, 98. \n",
    "\n",
    "---\n",
    "#### Scenario \n",
    "- X-direction: 640 columns (pixels) with 640m horizontal width\n",
    "- Y-direction: Infinite.\n",
    "- Z-direction: 54 vertical layers which are 45 meters thick \n",
    "\n",
    "  This is the Readme file for I3RC Case 1 (Step cloud) consensus results.                                              \n",
    "  This file can be obtained at http://i3rc.gsfc.nasa.gov/consensus_result/consensus_result_case1.tar    \n",
    "---\n",
    "\n",
    "#### Experiments\n",
    "ASSUMPTIONS:\n",
    "1. No atmospheric effects\n",
    "2. Periodic boundary conditions (cloud field is repeated an infinite\n",
    "   number of times along the x direction)\n",
    "3. Henyey-Greenstein phase function (PF) with g=0.85 and C.1\n",
    "   (Dermeindjian 1969)\n",
    "4. Black (zero reflectance) surface\n",
    "5. Single scattering albedos w0=1 and w0=0.99 (with the same PF\n",
    "   and extinction field).\n",
    "\n",
    "SOLAR GEOMETRY: \n",
    "1. Sun at (SZA of) zero degrees\n",
    "2. Sun at 60 degrees and 0 azimuth (Sun shining from low x coordinates)"
   ]
  },
  {
   "cell_type": "code",
   "execution_count": null,
   "metadata": {
    "collapsed": false
   },
   "outputs": [],
   "source": [
    "#case = 'case2'\n",
    "#consResult = i3rc.consresults[case]"
   ]
  },
  {
   "cell_type": "code",
   "execution_count": null,
   "metadata": {
    "collapsed": false
   },
   "outputs": [],
   "source": [
    "ec2 = boto3.resource('ec2')\n",
    "instances = ec2.create_instances(\n",
    "    ImageId='ami-2ffe2440', \n",
    "    MinCount=1, \n",
    "    MaxCount=1,\n",
    "    KeyName='mitsuba',\n",
    "    InstanceType='t2.micro',\n",
    "    SecurityGroups=['All']\n",
    ")"
   ]
  },
  {
   "cell_type": "code",
   "execution_count": null,
   "metadata": {
    "collapsed": false
   },
   "outputs": [],
   "source": [
    "from collections import defaultdict\n",
    "\n",
    "runningInstances = ec2.instances.filter(Filters=[{'Name': 'instance-state-name', 'Values': ['running']}])\n",
    "\n",
    "ec2info = defaultdict()\n",
    "for instance in runningInstances:       \n",
    "    ec2info[instance.id] = {\n",
    "        'Type': instance.instance_type,\n",
    "        'State': instance.state['Name'],\n",
    "        'Private IP': instance.private_ip_address,\n",
    "        'Public IP': instance.public_ip_address,\n",
    "        'Launch Time': instance.launch_time,\n",
    "        'Security Groups' : instance.security_groups[0]['GroupName']\n",
    "        }\n",
    "\n",
    "attributes = ['Type', 'State', 'Private IP', 'Public IP', 'Launch Time', 'Security Groups']\n",
    "for instance_id, instance in ec2info.items():\n",
    "    for key in attributes:\n",
    "        print(\"{0}: {1}\".format(key, instance[key]))\n",
    "    print(\"------------------------------\")"
   ]
  },
  {
   "cell_type": "code",
   "execution_count": null,
   "metadata": {
    "collapsed": true
   },
   "outputs": [],
   "source": [
    "import i3rc, paramiko\n",
    "\n",
    "# Mitsuba imports\n",
    "from mitsuba.core import *\n",
    "from mitsuba.render import Scene, RenderQueue, RenderJob\n",
    "\n",
    "# Other imports and function defenitions \n",
    "import numpy as np\n",
    "import matplotlib.pyplot as plt\n",
    "import os, sys "
   ]
  },
  {
   "cell_type": "code",
   "execution_count": null,
   "metadata": {
    "collapsed": false
   },
   "outputs": [],
   "source": [
    "# Connect to a socket on a named host or IP address\n",
    "# 7554 is the default port of 'mtssrv'\n",
    "keyPath = os.path.join(os.environ['HOME'], 'Dropbox/Research/AWS/mitsuba.pem')\n",
    "\n",
    "key = paramiko.RSAKey.from_private_key_file(keyPath)\n",
    "ssh = paramiko.SSHClient()\n",
    "ssh.set_missing_host_key_policy(paramiko.AutoAddPolicy())\n",
    "\n",
    "ssh.connect(hostname='52.57.33.140', \n",
    "            username='ubuntu', \n",
    "            pkey=key)\n",
    "\n",
    "stdin, stdout, stderr = ssh.exec_command(\"cd code/mitsuba/dist\")\n",
    "stdin, stdout, stderr = ssh.exec_command(\"mtsserv\")\n",
    "\n",
    "# Wait for the command to terminate\n",
    "while not stdout.channel.exit_status_ready():\n",
    "    # Only print data if there is data to read in the channel\n",
    "    if stdout.channel.recv_ready():\n",
    "        rl, wl, xl = select.select([stdout.channel], [], [], 0.0)\n",
    "        if len(rl) > 0:\n",
    "            # Print data from stdout\n",
    "            print stdout.channel.recv(1024),\n",
    "\n",
    "#\n",
    "# Disconnect from the host\n",
    "#\n",
    "print \"Command done, closing SSH connection\"\n",
    "ssh.close()"
   ]
  },
  {
   "cell_type": "code",
   "execution_count": null,
   "metadata": {
    "collapsed": false
   },
   "outputs": [],
   "source": [
    "stream = SocketStream('52.57.33.140', 7554)\n",
    "\n",
    "#Create a remote worker instance that communicates over the stream\n",
    "remoteWorker = RemoteWorker('netWorker', stream)\n",
    "scheduler = Scheduler.getInstance()\n",
    "\n",
    "# Register the remote worker (and any other potential workers)\n",
    "scheduler.registerWorker(remoteWorker)\n",
    "scheduler.start()"
   ]
  },
  {
   "cell_type": "code",
   "execution_count": null,
   "metadata": {
    "collapsed": true
   },
   "outputs": [],
   "source": [
    "# Multiprocessing imports and initialization\n",
    "import multiprocessing\n",
    "scheduler = Scheduler.getInstance()\n",
    "\n",
    "# Start up the scheduling system with one worker per local core\n",
    "for i in range(0, multiprocessing.cpu_count()): \n",
    "    scheduler.registerWorker(LocalWorker(i, 'wrk%i' % i))\n",
    "\n",
    "scheduler.start()"
   ]
  },
  {
   "cell_type": "code",
   "execution_count": null,
   "metadata": {
    "collapsed": false
   },
   "outputs": [],
   "source": [
    "running = ec2.instances.filter(\n",
    "    Filters=[{'Name': 'instance-state-name', 'Values': ['running']}])\n",
    "running.terminate()"
   ]
  }
 ],
 "metadata": {
  "kernelspec": {
   "display_name": "Python 2",
   "language": "python",
   "name": "python2"
  },
  "language_info": {
   "codemirror_mode": {
    "name": "ipython",
    "version": 2
   },
   "file_extension": ".py",
   "mimetype": "text/x-python",
   "name": "python",
   "nbconvert_exporter": "python",
   "pygments_lexer": "ipython2",
   "version": "2.7.13"
  }
 },
 "nbformat": 4,
 "nbformat_minor": 2
}
